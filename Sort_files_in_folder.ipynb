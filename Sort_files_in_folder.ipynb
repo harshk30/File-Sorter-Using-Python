{
 "cells": [
  {
   "cell_type": "code",
   "execution_count": 85,
   "id": "f2924713",
   "metadata": {},
   "outputs": [],
   "source": [
    "import os, shutil"
   ]
  },
  {
   "cell_type": "code",
   "execution_count": 80,
   "id": "25fde30d",
   "metadata": {},
   "outputs": [],
   "source": [
    "path=r\"D:/advance wars/\""
   ]
  },
   "source": [
    "files=os.listdir(path)\n",
    "print(files)"
   ]
  },
  {
   "cell_type": "code",
   "execution_count": 87,
   "id": "8c581047",
   "metadata": {},
   "outputs": [
    {
     "name": "stdout",
     "output_type": "stream",
     "text": [
      "D:/advance wars/zip files\n",
      "D:/advance wars/gamefile\n"
     ]
    }
   ],
   "source": [
    "folder_names=['zip files','gamefile']\n",
    "\n",
    "for i in range(len(folder_names)):\n",
    "    if not os.path.exists(path+folder_names[i]):\n",
    "        print(path+folder_names[i])\n",
    "        os.makedirs(path+folder_names[i])\n",
    "        "
   ]
  },
  {
   "cell_type": "code",
   "execution_count": 96,
   "id": "880b3f3e",
   "metadata": {},
   "outputs": [
    {
     "name": "stdout",
     "output_type": "stream",
     "text": [
      "Some files not moved\n",
      "Some files not moved\n",
      "Some files not moved\n",
      "Some files not moved\n"
     ]
    }
   ],
   "source": [
    "for file in files:\n",
    "    if \".zip\" in file and not os.path.exists(path+\"zip files/\"+file):\n",
    "        shutil.move(path+file,path+\"zip files/\"+file)\n",
    "    if \".nds\" in file and not os.path.exists(path+\"gamefile/\"+file):\n",
    "        shutil.move(path+file,path+\"gamefile/\"+file)\n",
    "    if \".dst\" in file and not os.path.exists(path+\"gamefile/\"+file):\n",
    "        shutil.move(path+file,path+\"gamefile/\"+file)\n",
    "    else:\n",
    "        print(\"Some files not moved\")"
   ]
  }
 ],
 "metadata": {
  "kernelspec": {
   "display_name": "Python 3 (ipykernel)",
   "language": "python",
   "name": "python3"
  },
  "language_info": {
   "codemirror_mode": {
    "name": "ipython",
    "version": 3
   },
   "file_extension": ".py",
   "mimetype": "text/x-python",
   "name": "python",
   "nbconvert_exporter": "python",
   "pygments_lexer": "ipython3",
   "version": "3.11.3"
  }
 },
 "nbformat": 4,
 "nbformat_minor": 5
}
